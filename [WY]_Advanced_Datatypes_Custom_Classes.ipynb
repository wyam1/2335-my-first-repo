{
  "nbformat": 4,
  "nbformat_minor": 0,
  "metadata": {
    "colab": {
      "name": "[WY] Advanced Datatypes / Custom Classes",
      "provenance": [],
      "collapsed_sections": [],
      "include_colab_link": true
    },
    "kernelspec": {
      "name": "python3",
      "display_name": "Python 3"
    }
  },
  "cells": [
    {
      "cell_type": "markdown",
      "metadata": {
        "id": "view-in-github",
        "colab_type": "text"
      },
      "source": [
        "<a href=\"https://colab.research.google.com/github/wyam1/2335-my-first-repo/blob/main/%5BWY%5D_Advanced_Datatypes_Custom_Classes.ipynb\" target=\"_parent\"><img src=\"https://colab.research.google.com/assets/colab-badge.svg\" alt=\"Open In Colab\"/></a>"
      ]
    },
    {
      "cell_type": "markdown",
      "metadata": {
        "id": "WM6-dUWFN9qL"
      },
      "source": [
        "# Object-Oriented Programming & Classes\n"
      ]
    },
    {
      "cell_type": "markdown",
      "metadata": {
        "id": "3NoYE9PeGjP8"
      },
      "source": [
        "A **Class** is a representation of one or more objects which share the same or similar properties. Each class is like its own custom data type with properties defined by the developer.\n",
        "\n",
        "\n",
        "Characteristics of an \"object\":\n",
        "\n",
        "  + Identity\n",
        "  + Attributes / Properties\n",
        "  + Behaviors / Methods\n",
        "\n",
        "\n",
        "![different color polos on the shelf](https://github.com/s2t2/lambda-ds-3-1/blob/master/img/polos.png?raw=true)\n"
      ]
    },
    {
      "cell_type": "markdown",
      "metadata": {
        "id": "_VKhhN4vlzqT"
      },
      "source": [
        "# Classes in Python\n",
        "\n",
        "Reference:\n",
        "\n",
        "  + https://docs.python.org/3/tutorial/classes.html\n",
        "  + https://docs.python.org/3/tutorial/classes.html#class-objects\n",
        "  + https://www.w3schools.com/python/python_classes.asp\n",
        "  + https://www.tutorialspoint.com/python/python_classes_objects.htm\n",
        "  + https://realpython.com/python3-object-oriented-programming/\n",
        "  + https://realpython.com/instance-class-and-static-methods-demystified/\n",
        "\n",
        "## Definition\n",
        "\n",
        "In Python, we define a class using the `class` keyword, followed by the name of the class in titlecase. The class definition requires a specific function called `__init__` to initialize, or create a new member of the object class. A class definition may contain many other methods and properties as well.\n",
        "\n",
        "## Initialization / Instantiation\n",
        "\n",
        "After defining an object class, we can create any number of new members (called \"instances\") of that object class. Although multiple instances can have different values, the attributes and behaviors  are shared across all instances.\n",
        "\n",
        "\n",
        "\n",
        "\n",
        "\n"
      ]
    },
    {
      "cell_type": "markdown",
      "metadata": {
        "id": "jtJ5eUCbn5V9"
      },
      "source": [
        "## Example 1 (Polos)"
      ]
    },
    {
      "cell_type": "code",
      "metadata": {
        "id": "QaZR4JavlNwt"
      },
      "source": [
        "# DEFINITION\n",
        "\n",
        "class Polo():\n",
        "    def __init__(self, color, size, price=99.00, style=None):\n",
        "        self.color = color\n",
        "        self.size = size\n",
        "        self.price = price\n",
        "        self.style = style\n",
        "    \n",
        "    def fold(self):\n",
        "        print(\"FOLDING THE \" + self.color.upper() + \" POLO!\")\n",
        "    \n",
        "    def transfer_to(self, store_name):\n",
        "        print(f\"TRANSFERING THE {self.color.upper()} POLO TO STORE: '{store_name.upper()}'\")\n"
      ],
      "execution_count": null,
      "outputs": []
    },
    {
      "cell_type": "code",
      "metadata": {
        "colab": {
          "base_uri": "https://localhost:8080/"
        },
        "id": "tW-g6DYHk22f",
        "outputId": "d43281c9-2391-4960-d333-3ad204829b23"
      },
      "source": [
        "# INITIALIZATION\n",
        "\n",
        "\n",
        "polo_1 = Polo(color=\"Blue\", size=\"Large\", price=4.99) \n",
        "print(\"-----------\")\n",
        "print(type(polo_1))\n",
        "print(polo_1.color)\n",
        "print(polo_1.price)\n",
        "polo_1.fold()\n",
        "\n",
        "polo_2 = Polo(color=\"Yellow\", size=\"Small\")\n",
        "print(\"-----------\")\n",
        "print(type(polo_2))\n",
        "print(polo_2.color)\n",
        "print(polo_2.price)\n",
        "polo_2.fold()\n",
        "\n",
        "polo_3 = Polo(color=\"Red\", size=\"Large\", price=65.00, style=\"Slim\")\n",
        "print(\"-----------\")\n",
        "print(type(polo_3))\n",
        "print(polo_2.color)\n",
        "print(polo_2.price)\n",
        "polo_3.fold()\n",
        "polo_3.transfer_to(\"Boston, MA\")"
      ],
      "execution_count": null,
      "outputs": [
        {
          "output_type": "stream",
          "text": [
            "-----------\n",
            "<class '__main__.Polo'>\n",
            "Blue\n",
            "4.99\n",
            "FOLDING THE BLUE POLO!\n",
            "-----------\n",
            "<class '__main__.Polo'>\n",
            "Yellow\n",
            "99.0\n",
            "FOLDING THE YELLOW POLO!\n",
            "-----------\n",
            "<class '__main__.Polo'>\n",
            "Yellow\n",
            "99.0\n",
            "FOLDING THE RED POLO!\n",
            "TRANSFERING THE RED POLO TO STORE: 'Boston, MA'\n"
          ],
          "name": "stdout"
        }
      ]
    },
    {
      "cell_type": "markdown",
      "metadata": {
        "id": "0mqXImmsjccQ"
      },
      "source": [
        "## Example 2 (Teams)\n"
      ]
    },
    {
      "cell_type": "code",
      "metadata": {
        "id": "7IH5HMwMN3mw"
      },
      "source": [
        "#\n",
        "# CLASS DEFINITION\n",
        "#\n",
        "\n",
        "class BaseballTeam():\n",
        "    # each class has this specific \"init\" function \n",
        "    #... which allows us to pass attribute values when initializing a new member of that class\n",
        "    def __init__(self, city, name):\n",
        "        self.city = city\n",
        "        self.name = name\n",
        " \n",
        "    # FYI: @property is a decorator that allows us to reference this method\n",
        "    # ... without trailing parentheses (like team.full_name instead of team.full_name())\n",
        "    # ... basically just a stylistic choice on our part\n",
        "    # ... use properties for nouns / calculated attributes\n",
        "    # ... otherwise just use a normal method\n",
        "    @property\n",
        "    def full_name(self):\n",
        "        return self.city + \" \" + self.name\n",
        " \n",
        "    # this is a normal instance method. \n",
        "    # NOTE: all instance methods within a class take \"self\" as their first required parameter\n",
        "    # ... which references the instance itself\n",
        "    def advertise(self):\n",
        "        print(\"COME TO\", self.city.upper(), \"TO SEE OUR GAMES!\")\n",
        "\n"
      ],
      "execution_count": null,
      "outputs": []
    },
    {
      "cell_type": "code",
      "metadata": {
        "id": "fT_tP5xTJzqh",
        "colab": {
          "base_uri": "https://localhost:8080/"
        },
        "outputId": "97e5ce8b-88c7-4926-c99a-29215a000207"
      },
      "source": [
        "#\n",
        "# INITIALIZATION / INSTANTIATION\n",
        "#\n",
        "\n",
        "yanks = BaseballTeam(\"New York\", \"Yankees\")\n",
        "print(\"-----------\")\n",
        "print(type(yanks))\n",
        "print(yanks.full_name)\n",
        "yanks.advertise()\n",
        "\n",
        "nats = BaseballTeam(city=\"Washington\", name=\"Nationals\")\n",
        "print(\"-----------\")\n",
        "print(type(nats))\n",
        "print(nats.full_name)\n",
        "nats.advertise()\n",
        "\n",
        "mets = BaseballTeam(name=\"Mets\", city=\"New York\")\n",
        "print(\"-----------\")\n",
        "print(type(mets))\n",
        "print(mets.full_name)\n",
        "mets.advertise()"
      ],
      "execution_count": null,
      "outputs": [
        {
          "output_type": "stream",
          "text": [
            "-----------\n",
            "<class '__main__.BaseballTeam'>\n",
            "New York Yankees\n",
            "COME TO NEW YORK TO SEE OUR GAMES!\n",
            "-----------\n",
            "<class '__main__.BaseballTeam'>\n",
            "Washington Nationals\n",
            "COME TO WASHINGTON TO SEE OUR GAMES!\n",
            "-----------\n",
            "<class '__main__.BaseballTeam'>\n",
            "New York Mets\n",
            "COME TO NEW YORK TO SEE OUR GAMES!\n"
          ],
          "name": "stdout"
        }
      ]
    },
    {
      "cell_type": "markdown",
      "metadata": {
        "id": "tVGJmX2PxucU"
      },
      "source": [
        "# Example 3 (Geocoder Challenge!)\n",
        "\n",
        "For this example, we'll use a real class called `Nominatum` provided by the `pgeocode` package.\n",
        "\n",
        "It will be up to you to read the package documentation to learn how to initialize a new instance of this class, and to use it to do the things we need to do.\n",
        "\n",
        "Specifically, your goal is to print the **latitude**, **longitude**, and **city name** corresponding with **any given US zip code**.  \n",
        "\n",
        "References:\n",
        "\n",
        "  + [Package Index](https://pypi.org/project/pgeocode/)\n",
        "  + [GitHub Repo](https://github.com/symerio/pgeocode)\n",
        "  + [Docs](https://pgeocode.readthedocs.io/en/latest/)\n",
        "  + [List of Supported Country Codes](https://github.com/symerio/pgeocode#supported-countries)\n",
        "  + [`pgeocode.Nominatim`](https://pgeocode.readthedocs.io/en/latest/generated/pgeocode.Nominatim.html)\n",
        "  + [`pgeocode.Nominatim.query_postal_code()`](https://pgeocode.readthedocs.io/en/latest/generated/pgeocode.Nominatim.html#pgeocode.Nominatim.query_postal_code) HINT: the result will be a `pandas.Series` object\n",
        "\n"
      ]
    },
    {
      "cell_type": "code",
      "metadata": {
        "id": "b3Ui6mETz4gM"
      },
      "source": [
        "#\n",
        "# SETUP CELL\n",
        "# ... ok to run this once and comment-out, or just leave as-is\n",
        "# ... FYI: we can issue command-line commands in colab by prefixing them with !\n",
        "#\n",
        "!pip install pgeocode"
      ],
      "execution_count": null,
      "outputs": []
    },
    {
      "cell_type": "code",
      "metadata": {
        "id": "uQ-GjGaUz49B"
      },
      "source": [
        "#\n",
        "# IMPLEMENTATION CELL\n",
        "#\n",
        "\n",
        "\n",
        "\n",
        "country_code = \"US\" # or try other countries (see the official list)\n",
        "\n",
        "# todo: initialize a new Nominatum instance \n",
        "\n",
        "\n",
        "\n",
        "\n",
        "my_zip = \"10012\" # or use your own zip code!!\n",
        "\n",
        "# todo: get info about this zip code\n",
        "\n",
        "\n",
        "\n",
        "\n",
        "\n"
      ],
      "execution_count": null,
      "outputs": []
    }
  ]
}